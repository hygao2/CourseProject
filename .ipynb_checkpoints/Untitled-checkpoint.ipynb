{
 "cells": [
  {
   "cell_type": "code",
   "execution_count": 1,
   "metadata": {},
   "outputs": [],
   "source": [
    "import pandas as pd"
   ]
  },
  {
   "cell_type": "code",
   "execution_count": null,
   "metadata": {
    "scrolled": true
   },
   "outputs": [],
   "source": [
    "import praw\n",
    "\n",
    "my_client_id = 'dkmj5CVNjnzx2esWgeViEg'\n",
    "my_client_secret = '6Hh3UEdpqmXdMqi03sLYDhCSYJOYZA'\n",
    "my_user_agent = 'cs410_movie_nlp'\n",
    "\n",
    "reddit = praw.Reddit(client_id=my_client_id, client_secret=my_client_secret, user_agent=my_user_agent)\n",
    "\n",
    "posts = []\n",
    "ml_subreddit = reddit.subreddit('moviecritic')\n",
    "for post in ml_subreddit.hot(limit = 5):\n",
    "    text = []\n",
    "    text.append(post.selftext)\n",
    "    submission = reddit.submission(id=post.id)\n",
    "    submission.comments.replace_more(limit=0)\n",
    "    print(post)\n",
    "    for comment in submission.comments.list():\n",
    "        text.append(comment)\n",
    "    \n",
    "    posts.append([post.title, post.id, text, post.created])\n",
    "posts = pd.DataFrame(posts,columns=['title', 'id', 'body', 'created'])\n",
    "  \n",
    "df.to_csv('movie_comments.csv', sep='\\t', encoding='utf-8')\n",
    "\n",
    "print(posts)\n"
   ]
  },
  {
   "cell_type": "code",
   "execution_count": null,
   "metadata": {},
   "outputs": [],
   "source": []
  }
 ],
 "metadata": {
  "kernelspec": {
   "display_name": "Python 3",
   "language": "python",
   "name": "python3"
  },
  "language_info": {
   "codemirror_mode": {
    "name": "ipython",
    "version": 3
   },
   "file_extension": ".py",
   "mimetype": "text/x-python",
   "name": "python",
   "nbconvert_exporter": "python",
   "pygments_lexer": "ipython3",
   "version": "3.7.3"
  }
 },
 "nbformat": 4,
 "nbformat_minor": 2
}
